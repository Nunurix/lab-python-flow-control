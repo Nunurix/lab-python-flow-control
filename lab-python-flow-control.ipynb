{
 "cells": [
  {
   "cell_type": "markdown",
   "id": "d3bfc191-8885-42ee-b0a0-bbab867c6f9f",
   "metadata": {
    "tags": []
   },
   "source": [
    "# Lab | Flow Control"
   ]
  },
  {
   "cell_type": "markdown",
   "id": "3851fcd1-cf98-4653-9c89-e003b7ec9400",
   "metadata": {},
   "source": [
    "## Exercise: Managing Customer Orders Optimized\n",
    "\n",
    "In the last lab, you were starting an online store that sells various products. To ensure smooth operations, you developed a program that manages customer orders and inventory.\n",
    "\n",
    "You did so without using flow control. Let's go a step further and improve this code.\n",
    "\n",
    "Follow the steps below to complete the exercise:\n",
    "\n",
    "1. Look at your code from the lab data structures, and improve repeated code with loops.\n",
    "\n",
    "2. Instead of asking the user to input the name of three products that a customer wants to order, do the following:\n",
    "    \n",
    "    a. Prompt the user to enter the name of a product that a customer wants to order.\n",
    "    \n",
    "    b. Add the product name to the \"customer_orders\" set.\n",
    "    \n",
    "    c. Ask the user if they want to add another product (yes/no).\n",
    "    \n",
    "    d. Continue the loop until the user does not want to add another product.\n",
    "\n",
    "3. Instead of updating the inventory by subtracting 1 from the quantity of each product, only do it for  the products that were ordered (those in \"customer_orders\")."
   ]
  },
  {
   "cell_type": "code",
   "execution_count": 33,
   "id": "b01061a1-a772-4b93-8519-5455cc51d26a",
   "metadata": {},
   "outputs": [
    {
     "name": "stdout",
     "output_type": "stream",
     "text": [
      "{'t-shirt': 4, 'mug': 5, 'hat': 2, 'book': 9, 'keychain': 38}\n"
     ]
    }
   ],
   "source": [
    "# 1. Look at your code from the lab data structures, and improve repeated code with loops.\n",
    "inventory= {\n",
    "    \"t-shirt\": 4, \n",
    "    \"mug\":5, \n",
    "    \"hat\": 2, \n",
    "    \"book\": 9, \n",
    "    \"keychain\": 38\n",
    "    }\n",
    "print (inventory)"
   ]
  },
  {
   "cell_type": "code",
   "execution_count": 89,
   "id": "815a9f3c-7348-4e4e-b341-3eb4e4d5c5dd",
   "metadata": {},
   "outputs": [
    {
     "name": "stdin",
     "output_type": "stream",
     "text": [
      "Do you want an other product? Yes\n",
      "Which product do you want? mug\n",
      "Do you want an other product? yes\n",
      "Which product do you want? book\n",
      "Do you want an other product? yes\n",
      "Which product do you want? keychain\n",
      "Do you want an other product? no\n"
     ]
    },
    {
     "name": "stdout",
     "output_type": "stream",
     "text": [
      "{'mug', 'book', 'keychain'}\n"
     ]
    }
   ],
   "source": [
    "# 2 Prompt the user to enter the name of a product that a customer wants to order.\n",
    "\n",
    "customer_orders= set()\n",
    "while True:\n",
    "    answer= input(\"Do you want an other product?\").lower()\n",
    "    if answer == \"no\":\n",
    "        break\n",
    "    customer_orders.add(input (\"Which product do you want?\")) \n",
    "print(customer_orders)"
   ]
  },
  {
   "cell_type": "code",
   "execution_count": 91,
   "id": "a6fc6370-55fc-40c4-bb21-e96db2c0939f",
   "metadata": {},
   "outputs": [
    {
     "name": "stdout",
     "output_type": "stream",
     "text": [
      "{'t-shirt': 4, 'mug': 3, 'hat': 1, 'book': 9, 'keychain': 38}\n",
      "{'t-shirt': 4, 'mug': 2, 'hat': 1, 'book': 8, 'keychain': 37}\n"
     ]
    }
   ],
   "source": [
    "# Instead of updating the inventory by subtracting 1 from the quantity of each product, only do it for the products that were ordered (those in \"customer_orders\").\n",
    "print (inventory)\n",
    "\n",
    "for i in customer_orders:\n",
    "    if i in inventory.keys():\n",
    "        inventory[i]-=1\n",
    "print (inventory)"
   ]
  },
  {
   "cell_type": "code",
   "execution_count": null,
   "id": "36287e1e-b7a5-4817-a895-f38751953027",
   "metadata": {},
   "outputs": [],
   "source": []
  }
 ],
 "metadata": {
  "kernelspec": {
   "display_name": "Python 3 (ipykernel)",
   "language": "python",
   "name": "python3"
  },
  "language_info": {
   "codemirror_mode": {
    "name": "ipython",
    "version": 3
   },
   "file_extension": ".py",
   "mimetype": "text/x-python",
   "name": "python",
   "nbconvert_exporter": "python",
   "pygments_lexer": "ipython3",
   "version": "3.11.7"
  }
 },
 "nbformat": 4,
 "nbformat_minor": 5
}
